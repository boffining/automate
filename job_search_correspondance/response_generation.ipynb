{
 "cells": [
  {
   "cell_type": "markdown",
   "id": "12a34a12",
   "metadata": {},
   "source": [
    "### Generating email responses to the filtered postings"
   ]
  },
  {
   "cell_type": "code",
   "execution_count": 3,
   "id": "541770ad",
   "metadata": {},
   "outputs": [],
   "source": [
    "import pandas as pd\n",
    "import numpy as np\n",
    "from collections import Counter\n",
    "\n",
    "\n",
    "class JobSearch:\n",
    "    def __init__(self, data):\n",
    "        self.data = data\n",
    "        self.saved = []\n",
    "        self.current_idx = 0\n",
    "        self.printed_role = None\n",
    "        \n",
    "    def next_role(self,):\n",
    "        if self.current_idx+1 == len(self.data):\n",
    "            print(\"Those are all the roles to review.\")\n",
    "            print(\"Export any saved roles now.\")\n",
    "        else:\n",
    "            print(self.current_idx+1, \"of\", len(self.data)+1, \"roles\")\n",
    "            self.print_role(self.current_idx)\n",
    "            self.current_idx += 1      \n",
    "        \n",
    "    def print_role(self, idx):\n",
    "        self.printed_role = idx\n",
    "        print(\"TITLE:  \", self.data.iloc[idx]['Job Posting'])\n",
    "        print(\"LOCATION:   \", self.data.iloc[idx]['Primary Location'])\n",
    "        print(\"CLEARANCE:   \", self.data.iloc[idx]['Required Clearance'])\n",
    "        print(\"\\n\")\n",
    "\n",
    "        print(\"JOB DESCRIPTION:\")\n",
    "        print(self.data.iloc[idx]['Job Description'])\n",
    "        \n",
    "    def save_role(self,):\n",
    "        if self.printed_role != None:\n",
    "            if self.printed_role not in self.saved:\n",
    "                self.saved.append(self.printed_role)\n",
    "                print(\"Role has been saved.\")\n",
    "                print(\"You have \", len(self.saved), \" roles saved.\")\n",
    "                \n",
    "    def export_saved_roles(self, filename=\"data/saved_roles_export.csv\"):\n",
    "        saved_export = self.data.iloc[self.saved].copy()\n",
    "        saved_export.to_csv(filename, index=False)"
   ]
  },
  {
   "cell_type": "code",
   "execution_count": 29,
   "id": "29ca4ec5",
   "metadata": {},
   "outputs": [
    {
     "name": "stdout",
     "output_type": "stream",
     "text": [
      "(21, 20)\n"
     ]
    }
   ],
   "source": [
    "df = pd.read_csv(\"data/filtered_positions.csv\")\n",
    "\n",
    "# simplify for easier evaluation.\n",
    "df.drop(columns=['Posted Internally Only',\n",
    "                 'Job Requisition',\n",
    "                 'Job Requisition Status',\n",
    "                 'Supervisory Organization',\n",
    "                 'Account Group',\n",
    "                 'IMT',\n",
    "                 'Team',\n",
    "                 'Time Type',\n",
    "                ], inplace=True)\n",
    "\n",
    "df = df.sort_values(by='Recruiting Start Date')\n",
    "\n",
    "print(df.shape)\n",
    "\n",
    "js = JobSearch(df)"
   ]
  },
  {
   "cell_type": "code",
   "execution_count": 54,
   "id": "735a5107",
   "metadata": {},
   "outputs": [
    {
     "name": "stdout",
     "output_type": "stream",
     "text": [
      "Those are all the roles to review.\n"
     ]
    }
   ],
   "source": [
    "js.next_role()"
   ]
  },
  {
   "cell_type": "code",
   "execution_count": 53,
   "id": "68841cb2",
   "metadata": {},
   "outputs": [
    {
     "name": "stdout",
     "output_type": "stream",
     "text": [
      "Role has been saved.\n",
      "You have  3  roles saved.\n"
     ]
    }
   ],
   "source": [
    "js.save_role()"
   ]
  },
  {
   "cell_type": "code",
   "execution_count": 55,
   "id": "6dbc6934",
   "metadata": {},
   "outputs": [],
   "source": [
    "js.export_saved_roles()"
   ]
  },
  {
   "cell_type": "code",
   "execution_count": null,
   "id": "278386b0",
   "metadata": {},
   "outputs": [],
   "source": []
  },
  {
   "cell_type": "code",
   "execution_count": null,
   "id": "ed5f5311",
   "metadata": {},
   "outputs": [],
   "source": []
  },
  {
   "cell_type": "code",
   "execution_count": null,
   "id": "8822b8a6",
   "metadata": {},
   "outputs": [],
   "source": []
  },
  {
   "cell_type": "code",
   "execution_count": 38,
   "id": "8835f170",
   "metadata": {},
   "outputs": [
    {
     "data": {
      "text/plain": [
       "[]"
      ]
     },
     "execution_count": 38,
     "metadata": {},
     "output_type": "execute_result"
    }
   ],
   "source": [
    "js.saved"
   ]
  },
  {
   "cell_type": "code",
   "execution_count": null,
   "id": "1f97dbf2",
   "metadata": {},
   "outputs": [],
   "source": []
  },
  {
   "cell_type": "code",
   "execution_count": null,
   "id": "e74f7bf3",
   "metadata": {},
   "outputs": [],
   "source": []
  },
  {
   "cell_type": "code",
   "execution_count": 20,
   "id": "6da47ee0",
   "metadata": {},
   "outputs": [
    {
     "data": {
      "text/plain": [
       "Counter({'Fort Meade, MD': 7,\n",
       "         'Annapolis Junction, MD': 5,\n",
       "         'Washington, DC': 1,\n",
       "         'McLean, VA': 4,\n",
       "         'Herndon, VA': 1,\n",
       "         'Charleston, SC': 2,\n",
       "         'Edgewood, MD': 1})"
      ]
     },
     "execution_count": 20,
     "metadata": {},
     "output_type": "execute_result"
    }
   ],
   "source": [
    "Counter(df['Primary Location'].values)"
   ]
  },
  {
   "cell_type": "code",
   "execution_count": 29,
   "id": "18d0a58c",
   "metadata": {},
   "outputs": [],
   "source": []
  },
  {
   "cell_type": "code",
   "execution_count": null,
   "id": "ce1d4d6a",
   "metadata": {},
   "outputs": [],
   "source": []
  },
  {
   "cell_type": "code",
   "execution_count": null,
   "id": "e1fb8c26",
   "metadata": {},
   "outputs": [],
   "source": []
  },
  {
   "cell_type": "code",
   "execution_count": null,
   "id": "25496a9c",
   "metadata": {},
   "outputs": [],
   "source": []
  },
  {
   "cell_type": "code",
   "execution_count": null,
   "id": "a3db6a3d",
   "metadata": {},
   "outputs": [],
   "source": []
  },
  {
   "cell_type": "code",
   "execution_count": null,
   "id": "18038b36",
   "metadata": {},
   "outputs": [],
   "source": []
  },
  {
   "cell_type": "code",
   "execution_count": null,
   "id": "643cea09",
   "metadata": {},
   "outputs": [],
   "source": []
  }
 ],
 "metadata": {
  "kernelspec": {
   "display_name": "Python 3 (ipykernel)",
   "language": "python",
   "name": "python3"
  },
  "language_info": {
   "codemirror_mode": {
    "name": "ipython",
    "version": 3
   },
   "file_extension": ".py",
   "mimetype": "text/x-python",
   "name": "python",
   "nbconvert_exporter": "python",
   "pygments_lexer": "ipython3",
   "version": "3.8.13"
  }
 },
 "nbformat": 4,
 "nbformat_minor": 5
}
