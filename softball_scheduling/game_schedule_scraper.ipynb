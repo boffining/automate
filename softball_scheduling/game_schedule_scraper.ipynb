{
 "cells": [
  {
   "cell_type": "markdown",
   "id": "5882f608",
   "metadata": {},
   "source": [
    "### Pull the game schedules from the websites of interest"
   ]
  },
  {
   "cell_type": "code",
   "execution_count": 2,
   "id": "f99b954a",
   "metadata": {},
   "outputs": [],
   "source": [
    "import pandas as pd\n",
    "import numpy as np\n",
    "import datetime"
   ]
  },
  {
   "cell_type": "code",
   "execution_count": null,
   "id": "b8e2f423",
   "metadata": {},
   "outputs": [],
   "source": []
  },
  {
   "cell_type": "code",
   "execution_count": null,
   "id": "64ffc4bc",
   "metadata": {},
   "outputs": [],
   "source": []
  },
  {
   "cell_type": "code",
   "execution_count": null,
   "id": "50431aa0",
   "metadata": {},
   "outputs": [],
   "source": []
  },
  {
   "cell_type": "code",
   "execution_count": 1,
   "id": "0d584801",
   "metadata": {},
   "outputs": [],
   "source": [
    "#variable used to block off days for clinics/tryouts and other one off events.\n",
    "fixed_events = []"
   ]
  },
  {
   "cell_type": "code",
   "execution_count": null,
   "id": "f9286a4b",
   "metadata": {},
   "outputs": [],
   "source": []
  },
  {
   "cell_type": "code",
   "execution_count": null,
   "id": "259d2f59",
   "metadata": {},
   "outputs": [],
   "source": []
  },
  {
   "cell_type": "code",
   "execution_count": null,
   "id": "aa292247",
   "metadata": {},
   "outputs": [],
   "source": []
  },
  {
   "cell_type": "code",
   "execution_count": null,
   "id": "7b25a1ba",
   "metadata": {},
   "outputs": [],
   "source": []
  },
  {
   "cell_type": "code",
   "execution_count": null,
   "id": "2bf0351b",
   "metadata": {},
   "outputs": [],
   "source": [
    "import click\n",
    "\n",
    "@click.command()\n",
    "def cli():\n",
    "    \"\"\"\n",
    "    Simple CLI that takes user input and responds.\n",
    "    \"\"\"\n",
    "    while True:\n",
    "        user_input = click.prompt(\"Enter a command (type 'exit' to quit)\")\n",
    "\n",
    "        if user_input.lower() == 'exit':\n",
    "            click.echo(\"Exiting...\")\n",
    "            break\n",
    "        elif user_input.lower() == 'hello':\n",
    "            name = click.prompt(\"Enter your name\")\n",
    "            click.echo(f\"Hello, {name}!\")\n",
    "        elif user_input.lower() == 'calculate':\n",
    "            num1 = click.prompt(\"Enter the first number\", type=float)\n",
    "            num2 = click.prompt(\"Enter the second number\", type=float)\n",
    "            operation = click.prompt(\"Enter the operation (+, -, *, /)\")\n",
    "\n",
    "            if operation == '+':\n",
    "                result = num1 + num2\n",
    "            elif operation == '-':\n",
    "                result = num1 - num2\n",
    "            elif operation == '*':\n",
    "                result = num1 * num2\n",
    "            elif operation == '/':\n",
    "                if num2 == 0:\n",
    "                    click.echo(\"Cannot divide by zero.\")\n",
    "                    continue\n",
    "                result = num1 / num2\n",
    "            else:\n",
    "                click.echo(\"Invalid operation.\")\n",
    "                continue\n",
    "            \n",
    "            click.echo(f\"Result: {result}\")\n",
    "        else:\n",
    "            click.echo(\"Invalid command.\")\n",
    "\n",
    "if __name__ == '__main__':\n",
    "    cli()"
   ]
  },
  {
   "cell_type": "code",
   "execution_count": null,
   "id": "bd41b8dd",
   "metadata": {},
   "outputs": [],
   "source": []
  },
  {
   "cell_type": "code",
   "execution_count": null,
   "id": "aff47a8e",
   "metadata": {},
   "outputs": [],
   "source": []
  }
 ],
 "metadata": {
  "kernelspec": {
   "display_name": "Python 3 (ipykernel)",
   "language": "python",
   "name": "python3"
  },
  "language_info": {
   "codemirror_mode": {
    "name": "ipython",
    "version": 3
   },
   "file_extension": ".py",
   "mimetype": "text/x-python",
   "name": "python",
   "nbconvert_exporter": "python",
   "pygments_lexer": "ipython3",
   "version": "3.8.13"
  }
 },
 "nbformat": 4,
 "nbformat_minor": 5
}
